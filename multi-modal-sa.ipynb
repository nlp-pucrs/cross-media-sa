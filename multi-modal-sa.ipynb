{
 "cells": [
  {
   "cell_type": "code",
   "execution_count": 1,
   "metadata": {},
   "outputs": [
    {
     "name": "stderr",
     "output_type": "stream",
     "text": [
      "/home/ubuntu/anaconda3/envs/caffe_p35/lib/python3.5/site-packages/matplotlib/__init__.py:1067: UserWarning: Duplicate key in file \"/home/ubuntu/.config/matplotlib/matplotlibrc\", line #2\n",
      "  (fname, cnt))\n",
      "/home/ubuntu/anaconda3/envs/caffe_p35/lib/python3.5/site-packages/matplotlib/__init__.py:1067: UserWarning: Duplicate key in file \"/home/ubuntu/.config/matplotlib/matplotlibrc\", line #3\n",
      "  (fname, cnt))\n",
      "/home/ubuntu/anaconda3/envs/caffe_p35/lib/python3.5/site-packages/matplotlib/font_manager.py:278: UserWarning: Matplotlib is building the font cache using fc-list. This may take a moment.\n",
      "  'Matplotlib is building the font cache using fc-list. '\n"
     ]
    }
   ],
   "source": [
    "import caffe\n",
    "import pandas as pd\n",
    "import numpy as np\n",
    "\n",
    "import warnings\n",
    "warnings.filterwarnings('ignore')"
   ]
  },
  {
   "cell_type": "code",
   "execution_count": 2,
   "metadata": {},
   "outputs": [
    {
     "name": "stderr",
     "output_type": "stream",
     "text": [
      "b'Skipping line 661: expected 1 fields, saw 2\\nSkipping line 1162: expected 1 fields, saw 2\\nSkipping line 7534: expected 1 fields, saw 2\\nSkipping line 9162: expected 1 fields, saw 3\\nSkipping line 9445: expected 1 fields, saw 2\\nSkipping line 9664: expected 1 fields, saw 2\\nSkipping line 10879: expected 1 fields, saw 2\\nSkipping line 12082: expected 1 fields, saw 2\\nSkipping line 13539: expected 1 fields, saw 2\\nSkipping line 16718: expected 1 fields, saw 3\\n'\n"
     ]
    },
    {
     "data": {
      "text/plain": [
       "array([ './tier-16-images/1.bp.blogspot.com/-RUXCFQVeBQs/TtPV8sbB7AI/AAAAAAAAAHU/-kA8exbj5AY/s1600/PQAAAGB4wSs9K2FBCPZS-1u_Xsae1a1BRTwijGG-Sjwllbl1QC-4DF8M7NZG_DBE3i0CpqvOXQEMt8zNYoYf1IDX304Am1T1UEsEOXSj2hz82yJQl2gu0PH3rqWq.jpg',\n",
       "       './tier-16-images/1.bp.blogspot.com/-uLrqNwusOTE/UCOh0-o8VkI/AAAAAAAAAJs/YD01uLJ_wdI/s1600/joao+folho.jpg',\n",
       "       './tier-16-images/1.bp.blogspot.com/-aFlip7sakEQ/T0ubmfypgJI/AAAAAAAAAFI/zIXNVYLWvuo/s1600/bb3ae3af-f808-1feb.jpg',\n",
       "       './tier-16-images/1.bp.blogspot.com/-eV-L5yhJK7o/US1MunYdHRI/AAAAAAAAAXk/CSsjQb-vF8o/s1600/choquito.jpg',\n",
       "       './tier-16-images/1.bp.blogspot.com/-0zLEiEZjY1U/T9CyBOmwVrI/AAAAAAAABdk/nKyCBl1TW6s/s1600/Imagem.jpg'], dtype=object)"
      ]
     },
     "execution_count": 2,
     "metadata": {},
     "output_type": "execute_result"
    }
   ],
   "source": [
    "files = pd.read_csv('files.csv', encoding='iso-8859-1', sep=';', error_bad_lines=False, header=None)\n",
    "files.head(5)[0].values"
   ]
  },
  {
   "cell_type": "code",
   "execution_count": 3,
   "metadata": {},
   "outputs": [],
   "source": [
    "deploy_file = 'deploy.prototxt'\n",
    "caffemodel_file = 'snapshot_iter_74880.caffemodel'\n",
    "\n",
    "net = caffe.Classifier(deploy_file, caffemodel_file)"
   ]
  },
  {
   "cell_type": "code",
   "execution_count": 4,
   "metadata": {},
   "outputs": [
    {
     "name": "stdout",
     "output_type": "stream",
     "text": [
      "16712\n",
      "0 (2.602) , 10 (8.831) , error, 20 (14.913) , 30 (21.193) , 40 (27.618) , 50 (34.027) , error, error, error, 60 (38.525) , 70 (44.914) , error, 80 (50.755) , error, error, error, error, 90 (54.4) , error, error, error, 100 (59.131) , "
     ]
    }
   ],
   "source": [
    "import  sys\n",
    "import  time\n",
    "    \n",
    "size = (256,256)\n",
    "files['prediction'] = ''\n",
    "\n",
    "start = time.time()\n",
    "\n",
    "print(len(files))\n",
    "\n",
    "for idx in files.index:\n",
    "    file = files.iloc[idx][0]\n",
    "    \n",
    "    try:\n",
    "\n",
    "        image = caffe.io.resize_image(caffe.io.load_image(file.strip()), size)\n",
    "        image = [(image * 255).astype(np.float)]\n",
    "\n",
    "        caffe_prob = net.predict(image, oversample=False)\n",
    "        caffe_prediction = caffe_prob.argmax(axis=1)\n",
    "\n",
    "        files.iloc[idx]['prediction'] = caffe_prediction[0]\n",
    "\n",
    "        #print(file.strip(), caffe_prediction[0])\n",
    "        \n",
    "    except:\n",
    "        \n",
    "        sys.stdout.write('error, ')\n",
    "        sys.stdout.flush()        \n",
    "        \n",
    "    if (idx % 10) == 0:\n",
    "        end = time.time()\n",
    "        sys.stdout.write(str(idx) + ' ('+ str(round(end - start,3)) +') , ')\n",
    "        sys.stdout.flush()\n",
    "        \n",
    "    if idx > 100:\n",
    "        break"
   ]
  },
  {
   "cell_type": "code",
   "execution_count": 5,
   "metadata": {},
   "outputs": [],
   "source": [
    "files.to_csv('files_prediction.csv.gz', compression='gzip')"
   ]
  },
  {
   "cell_type": "code",
   "execution_count": null,
   "metadata": {},
   "outputs": [],
   "source": []
  }
 ],
 "metadata": {
  "kernelspec": {
   "display_name": "Environment (conda_caffe_p35)",
   "language": "python",
   "name": "conda_caffe_p35"
  },
  "language_info": {
   "codemirror_mode": {
    "name": "ipython",
    "version": 3
   },
   "file_extension": ".py",
   "mimetype": "text/x-python",
   "name": "python",
   "nbconvert_exporter": "python",
   "pygments_lexer": "ipython3",
   "version": "3.5.5"
  }
 },
 "nbformat": 4,
 "nbformat_minor": 2
}
