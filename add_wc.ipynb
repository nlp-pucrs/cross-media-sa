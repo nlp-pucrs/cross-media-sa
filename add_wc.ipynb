{
 "cells": [
  {
   "cell_type": "code",
   "execution_count": 1,
   "metadata": {},
   "outputs": [
    {
     "data": {
      "text/plain": [
       "(Index(['Unnamed: 0', '0', '1', 'wc'], dtype='object'),\n",
       " Index(['Unnamed: 0', 'Unnamed: 0.1', 'Unnamed: 0.1.1', 'funct', 'pronoun',\n",
       "        'ppron', 'i', 'we', 'you', 'shehe', 'they', 'ipron', 'article', 'verb',\n",
       "        'auxverb', 'past', 'present', 'future', 'adverb', 'preps', 'conj',\n",
       "        'negate', 'quant', 'number', 'swear', 'social', 'family', 'friend',\n",
       "        'humans', 'affect', 'posemo', 'negemo', 'anx', 'anger', 'sad',\n",
       "        'cogmech', 'insight', 'cause', 'discrep', 'tentat', 'certain', 'inhib',\n",
       "        'incl', 'excl', 'percept', 'see', 'hear', 'feel', 'bio', 'body',\n",
       "        'health', 'sexual', 'ingest', 'relativ', 'motion', 'space', 'time',\n",
       "        'work', 'achieve', 'leisure', 'home', 'money', 'relig', 'death',\n",
       "        'assent', 'nonfl', 'filler', 'post.id', 'blog.id', 'polarity',\n",
       "        'img_polarity', 'img', 'wc'],\n",
       "       dtype='object'))"
      ]
     },
     "execution_count": 1,
     "metadata": {},
     "output_type": "execute_result"
    }
   ],
   "source": [
    "import pandas as pd\n",
    "\n",
    "texts16 = pd.read_csv('tier16_posts_wx.csv')\n",
    "posts16 = pd.read_csv('post_img_polarity.csv.gz')\n",
    "\n",
    "texts16.columns, posts16.columns"
   ]
  },
  {
   "cell_type": "code",
   "execution_count": 14,
   "metadata": {},
   "outputs": [
    {
     "name": "stdout",
     "output_type": "stream",
     "text": [
      "0,1000,2000,3000,4000,5000,6000,7000,8000,9000,10000,11000,12000,13000,14000,15000,16000,17000,"
     ]
    }
   ],
   "source": [
    "import sys\n",
    "\n",
    "posts16['wc'] = 0\n",
    "\n",
    "for idx in posts16.index:   \n",
    "    post_id = posts16.iloc[idx]['post.id']\n",
    "    blog_id = posts16.iloc[idx]['blog.id']\n",
    "    \n",
    "    idx_post = texts16[(texts16['0']==post_id) & (texts16['1']==blog_id)].index\n",
    "    \n",
    "    if len(idx_post) == 1:\n",
    "        wc = texts16.iloc[idx_post[0]]['wc']\n",
    "        posts16.loc[idx,'wc'] = wc\n",
    "        \n",
    "    if (idx % 1000) == 0:\n",
    "        sys.stdout.write(str(idx) + ',')\n",
    "        sys.stdout.flush()"
   ]
  },
  {
   "cell_type": "code",
   "execution_count": 15,
   "metadata": {},
   "outputs": [],
   "source": [
    "posts16.to_csv('post_img_polarity.csv.gz', compression='gzip')"
   ]
  },
  {
   "cell_type": "code",
   "execution_count": null,
   "metadata": {},
   "outputs": [],
   "source": []
  }
 ],
 "metadata": {
  "kernelspec": {
   "display_name": "Python 3",
   "language": "python",
   "name": "python3"
  },
  "language_info": {
   "codemirror_mode": {
    "name": "ipython",
    "version": 3
   },
   "file_extension": ".py",
   "mimetype": "text/x-python",
   "name": "python",
   "nbconvert_exporter": "python",
   "pygments_lexer": "ipython3",
   "version": "3.6.3"
  }
 },
 "nbformat": 4,
 "nbformat_minor": 2
}
