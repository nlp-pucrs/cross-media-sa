{
 "cells": [
  {
   "cell_type": "code",
   "execution_count": 1,
   "metadata": {},
   "outputs": [
    {
     "data": {
      "text/plain": [
       "(820, Index(['id', 'qual_o_sentimento_predominante_no_texto',\n",
       "        'qual_o_sentimento_predominante_no_texto:confidence', 'blog_id',\n",
       "        'blogid', 'comments', 'content', 'datetime', 'img',\n",
       "        'img_max_polarity_idx', 'img_max_polarity_val', 'labels', 'name',\n",
       "        'negemo', 'posemo', 'post_id', 'postid', 'relative_polarity', 'title',\n",
       "        'user_id', 'wc', 'what_is_the_sentiment_feeling_of_the_image',\n",
       "        'what_is_the_sentiment_feeling_of_the_imageconfidence'],\n",
       "       dtype='object'))"
      ]
     },
     "execution_count": 1,
     "metadata": {},
     "output_type": "execute_result"
    }
   ],
   "source": [
    "import pandas as pd\n",
    "\n",
    "result = pd.read_csv('cf_report_1272911_aggregated.csv')\n",
    "\n",
    "len(result), result.columns"
   ]
  },
  {
   "cell_type": "code",
   "execution_count": 9,
   "metadata": {},
   "outputs": [
    {
     "data": {
      "text/plain": [
       "744"
      ]
     },
     "execution_count": 9,
     "metadata": {},
     "output_type": "execute_result"
    }
   ],
   "source": [
    "result_clean = result[result['qual_o_sentimento_predominante_no_texto'] >= 0]\n",
    "result_clean = result_clean[result_clean['qual_o_sentimento_predominante_no_texto'] <= 2]\n",
    "result_clean = result_clean[result_clean['what_is_the_sentiment_feeling_of_the_image'] >= 0]\n",
    "result_clean = result_clean[result_clean['what_is_the_sentiment_feeling_of_the_image'] <= 2]\n",
    "\n",
    "len(result_clean)"
   ]
  },
  {
   "cell_type": "code",
   "execution_count": 10,
   "metadata": {},
   "outputs": [
    {
     "data": {
      "text/plain": [
       "0.43951612903225806"
      ]
     },
     "execution_count": 10,
     "metadata": {},
     "output_type": "execute_result"
    }
   ],
   "source": [
    "from sklearn.metrics import accuracy_score\n",
    "\n",
    "accuracy_score(result_clean['qual_o_sentimento_predominante_no_texto'], result_clean['what_is_the_sentiment_feeling_of_the_image'])"
   ]
  },
  {
   "cell_type": "code",
   "execution_count": 11,
   "metadata": {},
   "outputs": [
    {
     "data": {
      "text/plain": [
       "0.7754237288135594"
      ]
     },
     "execution_count": 11,
     "metadata": {},
     "output_type": "execute_result"
    }
   ],
   "source": [
    "result_clean = result_clean[result_clean['qual_o_sentimento_predominante_no_texto'] != 1]\n",
    "result_clean = result_clean[result_clean['what_is_the_sentiment_feeling_of_the_image'] != 1]\n",
    "\n",
    "accuracy_score(result_clean['qual_o_sentimento_predominante_no_texto'], result_clean['what_is_the_sentiment_feeling_of_the_image'])"
   ]
  },
  {
   "cell_type": "code",
   "execution_count": null,
   "metadata": {},
   "outputs": [],
   "source": []
  }
 ],
 "metadata": {
  "kernelspec": {
   "display_name": "Python 3",
   "language": "python",
   "name": "python3"
  },
  "language_info": {
   "codemirror_mode": {
    "name": "ipython",
    "version": 3
   },
   "file_extension": ".py",
   "mimetype": "text/x-python",
   "name": "python",
   "nbconvert_exporter": "python",
   "pygments_lexer": "ipython3",
   "version": "3.6.3"
  }
 },
 "nbformat": 4,
 "nbformat_minor": 2
}
