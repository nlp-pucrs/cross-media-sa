{
 "cells": [
  {
   "cell_type": "code",
   "execution_count": 2,
   "metadata": {},
   "outputs": [],
   "source": [
    "import os\n",
    "import caffe\n",
    "import pandas as pd\n",
    "import numpy as np\n",
    "\n",
    "import csv\n",
    "import  sys\n",
    "import  time\n",
    "\n",
    "import warnings\n",
    "warnings.filterwarnings('ignore')\n"
   ]
  },
  {
   "cell_type": "code",
   "execution_count": 3,
   "metadata": {},
   "outputs": [],
   "source": [
    "def getExtension(name):\n",
    "   fileName, fileExtension = os.path.splitext(name)\n",
    "   return fileExtension\n",
    " \n",
    "\n",
    "def isExtensionPermited(extension):\n",
    "    extensions = ['jpeg', 'jpg', 'jpe']\n",
    "    for x in extensions:\n",
    "        if extension[:1] == '.':\n",
    "            if extension[1:].lower() == x:\n",
    "                return True\n",
    "            elif extension.lower() == x:\n",
    "                return True\n",
    "    return False\n",
    "\n",
    "\n",
    "nameFile = []\n",
    "def lookupDirectory(path):\n",
    "   if os.path.isdir(path):\n",
    "       files = os.listdir(path)\n",
    "       for i in files:\n",
    "           if i + '/' != 'windows/':\n",
    "               if os.path.isdir(path + i + '/'):\n",
    "                   lookupDirectory(path + i + '/')\n",
    "               if isExtensionPermited(getExtension(i)) == True:\n",
    "                   #print i\n",
    "                   nameFile.append(path+i)\n"
   ]
  },
  {
   "cell_type": "code",
   "execution_count": 4,
   "metadata": {},
   "outputs": [],
   "source": [
    "diretorio = 'tier-16-images/'\n",
    "\n",
    "lookupDirectory(diretorio)"
   ]
  },
  {
   "cell_type": "code",
   "execution_count": 7,
   "metadata": {},
   "outputs": [
    {
     "name": "stdout",
     "output_type": "stream",
     "text": [
      "Arquivo:  /home/greice/projeto/tst/4446094482_b15f3d3de5_m.jpg  cplTmp:  [2]  -  ['positivo']\n",
      "Arquivo:  /home/greice/projeto/tst/metallica_.jpg  cplTmp:  [1]  -  ['neutro']\n",
      "Arquivo:  /home/greice/projeto/tst/test.jpg  cplTmp:  [0]  -  ['negativo']\n",
      "2 (6.236) , "
     ]
    }
   ],
   "source": [
    "size = (256,256)\n",
    "\n",
    "start = time.time()\n",
    "\n",
    "deploy_file = 'deploy.prototxt'\n",
    "caffemodel_file = 'snapshot_iter_74880.caffemodel'\n",
    "net = caffe.Classifier(deploy_file, caffemodel_file)\n",
    "\n",
    "labels = pd.read_csv(os.path.join('vgg19_finetuned_all','labels.txt'), names=['label'])\n",
    "\n",
    "\n",
    "c = csv.writer(open(\"fileEmotion_test.csv\", \"wb\"))\n",
    "\n",
    "for i in range(len(nameFile)):\n",
    "    try:\n",
    "        image = caffe.io.resize_image(caffe.io.load_image(nameFile[i]), size)\n",
    "        image = [(image * 255).astype(np.float)]\n",
    "        caffe_prob = net.predict(image, oversample=False)\n",
    "        caffe_prediction = caffe_prob.argmax(axis=1)\n",
    "\n",
    "        caffe_prediction_labels = [ labels[labels.index == x][['label']].values[0][0] for x in caffe_prediction ]\n",
    "       \n",
    "        print 'Arquivo: ',nameFile[i], ' cplTmp: ',caffe_prediction,' - ',caffe_prediction_labels\n",
    "        c.writerow([nameFile[i],caffe_prediction[0]])\n",
    "\n",
    "    except:\n",
    "        #print 'Arquivo: ',nameFile[i], ' cplTmp: [\\'ERROR\\']'\n",
    "        sys.stdout.write('error, ')\n",
    "        sys.stdout.flush()  \n",
    "        \n",
    "end = time.time()\n",
    "sys.stdout.write(str(i) + ' ('+ str(round(end - start,3)) +') , ')\n",
    "sys.stdout.flush()\n",
    "\n",
    "#c.to_csv('fileEmotion_test.csv.gz', compression='gzip')\n"
   ]
  }
 ],
 "metadata": {
  "kernelspec": {
   "display_name": "Python 3",
   "language": "python",
   "name": "python3"
  },
  "language_info": {
   "codemirror_mode": {
    "name": "ipython",
    "version": 3
   },
   "file_extension": ".py",
   "mimetype": "text/x-python",
   "name": "python",
   "nbconvert_exporter": "python",
   "pygments_lexer": "ipython3",
   "version": "3.6.4"
  }
 },
 "nbformat": 4,
 "nbformat_minor": 2
}
