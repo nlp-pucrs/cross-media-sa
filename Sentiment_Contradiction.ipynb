{
 "cells": [
  {
   "cell_type": "code",
   "execution_count": 3,
   "metadata": {},
   "outputs": [
    {
     "data": {
      "text/plain": [
       "(17826,\n",
       " Index(['Unnamed: 0', 'Unnamed: 0.1', 'funct', 'pronoun', 'ppron', 'i', 'we',\n",
       "        'you', 'shehe', 'they', 'ipron', 'article', 'verb', 'auxverb', 'past',\n",
       "        'present', 'future', 'adverb', 'preps', 'conj', 'negate', 'quant',\n",
       "        'number', 'swear', 'social', 'family', 'friend', 'humans', 'affect',\n",
       "        'posemo', 'negemo', 'anx', 'anger', 'sad', 'cogmech', 'insight',\n",
       "        'cause', 'discrep', 'tentat', 'certain', 'inhib', 'incl', 'excl',\n",
       "        'percept', 'see', 'hear', 'feel', 'bio', 'body', 'health', 'sexual',\n",
       "        'ingest', 'relativ', 'motion', 'space', 'time', 'work', 'achieve',\n",
       "        'leisure', 'home', 'money', 'relig', 'death', 'assent', 'nonfl',\n",
       "        'filler', 'post.id', 'blog.id', 'polarity', 'img_polarity', 'img'],\n",
       "       dtype='object'))"
      ]
     },
     "execution_count": 3,
     "metadata": {},
     "output_type": "execute_result"
    }
   ],
   "source": [
    "import pandas as pd\n",
    "\n",
    "posts = pd.read_csv('post_img_polarity.csv.gz')\n",
    "len(posts), posts.columns"
   ]
  },
  {
   "cell_type": "code",
   "execution_count": 98,
   "metadata": {},
   "outputs": [],
   "source": [
    "posts['img_polarity'] = posts['img_polarity'].values.astype(int)\n",
    "posts = posts[posts['img_polarity'] >= 0]"
   ]
  },
  {
   "cell_type": "code",
   "execution_count": 114,
   "metadata": {},
   "outputs": [
    {
     "name": "stdout",
     "output_type": "stream",
     "text": [
      "0.41211134807498034\n",
      "             precision    recall  f1-score   support\n",
      "\n",
      "   negative       0.25      0.09      0.13      3904\n",
      "    neutral       0.51      0.58      0.54      8825\n",
      "   positive       0.29      0.36      0.33      5089\n",
      "\n",
      "avg / total       0.39      0.41      0.39     17818\n",
      "\n"
     ]
    },
    {
     "data": {
      "text/plain": [
       "array([[ 342, 2141, 1421],\n",
       "       [ 679, 5155, 2991],\n",
       "       [ 356, 2887, 1846]])"
      ]
     },
     "execution_count": 114,
     "metadata": {},
     "output_type": "execute_result"
    }
   ],
   "source": [
    "from sklearn.metrics import accuracy_score, classification_report, confusion_matrix\n",
    "import warnings\n",
    "warnings.filterwarnings('ignore')\n",
    "\n",
    "def polarity(post):\n",
    "    if post['polarity'] > 5:\n",
    "        return 2 #positive\n",
    "    elif post['polarity'] < -0:\n",
    "        return 0 #negative\n",
    "    else:\n",
    "        return 1 #neutral\n",
    "\n",
    "posts['post_polarity'] = posts.apply(polarity, axis=1)\n",
    "\n",
    "acc = accuracy_score(posts['img_polarity'].values.astype(int), posts['post_polarity'].values.astype(int))\n",
    "print(acc)\n",
    "print(classification_report(posts['img_polarity'].values.astype(int), posts['post_polarity'].values.astype(int), target_names=['negative', 'neutral', 'positive']))\n",
    "confusion_matrix(posts['img_polarity'].values.astype(int), posts['post_polarity'].values.astype(int))"
   ]
  },
  {
   "cell_type": "code",
   "execution_count": 102,
   "metadata": {},
   "outputs": [
    {
     "data": {
      "text/html": [
       "<div>\n",
       "<style scoped>\n",
       "    .dataframe tbody tr th:only-of-type {\n",
       "        vertical-align: middle;\n",
       "    }\n",
       "\n",
       "    .dataframe tbody tr th {\n",
       "        vertical-align: top;\n",
       "    }\n",
       "\n",
       "    .dataframe thead tr th {\n",
       "        text-align: left;\n",
       "    }\n",
       "\n",
       "    .dataframe thead tr:last-of-type th {\n",
       "        text-align: right;\n",
       "    }\n",
       "</style>\n",
       "<table border=\"1\" class=\"dataframe\">\n",
       "  <thead>\n",
       "    <tr>\n",
       "      <th></th>\n",
       "      <th>post_polarity</th>\n",
       "    </tr>\n",
       "    <tr>\n",
       "      <th></th>\n",
       "      <th>count</th>\n",
       "    </tr>\n",
       "    <tr>\n",
       "      <th>img_polarity</th>\n",
       "      <th></th>\n",
       "    </tr>\n",
       "  </thead>\n",
       "  <tbody>\n",
       "    <tr>\n",
       "      <th>0</th>\n",
       "      <td>3904</td>\n",
       "    </tr>\n",
       "    <tr>\n",
       "      <th>1</th>\n",
       "      <td>8825</td>\n",
       "    </tr>\n",
       "    <tr>\n",
       "      <th>2</th>\n",
       "      <td>5089</td>\n",
       "    </tr>\n",
       "  </tbody>\n",
       "</table>\n",
       "</div>"
      ],
      "text/plain": [
       "             post_polarity\n",
       "                     count\n",
       "img_polarity              \n",
       "0                     3904\n",
       "1                     8825\n",
       "2                     5089"
      ]
     },
     "execution_count": 102,
     "metadata": {},
     "output_type": "execute_result"
    }
   ],
   "source": [
    "posts[['post_polarity','img_polarity']].groupby(['img_polarity']).agg(['count'])"
   ]
  },
  {
   "cell_type": "code",
   "execution_count": null,
   "metadata": {},
   "outputs": [],
   "source": []
  }
 ],
 "metadata": {
  "kernelspec": {
   "display_name": "Python 3",
   "language": "python",
   "name": "python3"
  },
  "language_info": {
   "codemirror_mode": {
    "name": "ipython",
    "version": 3
   },
   "file_extension": ".py",
   "mimetype": "text/x-python",
   "name": "python",
   "nbconvert_exporter": "python",
   "pygments_lexer": "ipython3",
   "version": "3.6.5"
  }
 },
 "nbformat": 4,
 "nbformat_minor": 2
}
