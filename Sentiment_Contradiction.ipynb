{
 "cells": [
  {
   "cell_type": "code",
   "execution_count": 3,
   "metadata": {},
   "outputs": [
    {
     "data": {
      "text/plain": [
       "(17826,\n",
       " Index(['Unnamed: 0', 'Unnamed: 0.1', 'funct', 'pronoun', 'ppron', 'i', 'we',\n",
       "        'you', 'shehe', 'they', 'ipron', 'article', 'verb', 'auxverb', 'past',\n",
       "        'present', 'future', 'adverb', 'preps', 'conj', 'negate', 'quant',\n",
       "        'number', 'swear', 'social', 'family', 'friend', 'humans', 'affect',\n",
       "        'posemo', 'negemo', 'anx', 'anger', 'sad', 'cogmech', 'insight',\n",
       "        'cause', 'discrep', 'tentat', 'certain', 'inhib', 'incl', 'excl',\n",
       "        'percept', 'see', 'hear', 'feel', 'bio', 'body', 'health', 'sexual',\n",
       "        'ingest', 'relativ', 'motion', 'space', 'time', 'work', 'achieve',\n",
       "        'leisure', 'home', 'money', 'relig', 'death', 'assent', 'nonfl',\n",
       "        'filler', 'post.id', 'blog.id', 'polarity', 'img_polarity', 'img'],\n",
       "       dtype='object'))"
      ]
     },
     "execution_count": 3,
     "metadata": {},
     "output_type": "execute_result"
    }
   ],
   "source": [
    "import pandas as pd\n",
    "\n",
    "posts = pd.read_csv('post_img_polarity.csv.gz')\n",
    "len(posts), posts.columns"
   ]
  },
  {
   "cell_type": "code",
   "execution_count": 9,
   "metadata": {},
   "outputs": [
    {
     "data": {
      "text/html": [
       "<div>\n",
       "<style scoped>\n",
       "    .dataframe tbody tr th:only-of-type {\n",
       "        vertical-align: middle;\n",
       "    }\n",
       "\n",
       "    .dataframe tbody tr th {\n",
       "        vertical-align: top;\n",
       "    }\n",
       "\n",
       "    .dataframe thead th {\n",
       "        text-align: right;\n",
       "    }\n",
       "</style>\n",
       "<table border=\"1\" class=\"dataframe\">\n",
       "  <thead>\n",
       "    <tr style=\"text-align: right;\">\n",
       "      <th></th>\n",
       "      <th>post_polarity</th>\n",
       "      <th>img_polarity</th>\n",
       "    </tr>\n",
       "  </thead>\n",
       "  <tbody>\n",
       "    <tr>\n",
       "      <th>17816</th>\n",
       "      <td>0</td>\n",
       "      <td>0.0</td>\n",
       "    </tr>\n",
       "    <tr>\n",
       "      <th>17817</th>\n",
       "      <td>0</td>\n",
       "      <td>1.0</td>\n",
       "    </tr>\n",
       "    <tr>\n",
       "      <th>17818</th>\n",
       "      <td>1</td>\n",
       "      <td>1.0</td>\n",
       "    </tr>\n",
       "    <tr>\n",
       "      <th>17819</th>\n",
       "      <td>0</td>\n",
       "      <td>2.0</td>\n",
       "    </tr>\n",
       "    <tr>\n",
       "      <th>17820</th>\n",
       "      <td>0</td>\n",
       "      <td>2.0</td>\n",
       "    </tr>\n",
       "    <tr>\n",
       "      <th>17821</th>\n",
       "      <td>0</td>\n",
       "      <td>2.0</td>\n",
       "    </tr>\n",
       "    <tr>\n",
       "      <th>17822</th>\n",
       "      <td>0</td>\n",
       "      <td>1.0</td>\n",
       "    </tr>\n",
       "    <tr>\n",
       "      <th>17823</th>\n",
       "      <td>1</td>\n",
       "      <td>1.0</td>\n",
       "    </tr>\n",
       "    <tr>\n",
       "      <th>17824</th>\n",
       "      <td>1</td>\n",
       "      <td>0.0</td>\n",
       "    </tr>\n",
       "    <tr>\n",
       "      <th>17825</th>\n",
       "      <td>1</td>\n",
       "      <td>1.0</td>\n",
       "    </tr>\n",
       "  </tbody>\n",
       "</table>\n",
       "</div>"
      ],
      "text/plain": [
       "       post_polarity  img_polarity\n",
       "17816              0           0.0\n",
       "17817              0           1.0\n",
       "17818              1           1.0\n",
       "17819              0           2.0\n",
       "17820              0           2.0\n",
       "17821              0           2.0\n",
       "17822              0           1.0\n",
       "17823              1           1.0\n",
       "17824              1           0.0\n",
       "17825              1           1.0"
      ]
     },
     "execution_count": 9,
     "metadata": {},
     "output_type": "execute_result"
    }
   ],
   "source": [
    "def polarity(post):\n",
    "    if post['polarity'] > 3:\n",
    "        return 0\n",
    "    if post['polarity'] < -3:\n",
    "        return 2\n",
    "    else:\n",
    "        return 1\n",
    "\n",
    "posts['post_polarity'] = posts.apply(polarity, axis=1)\n",
    "\n",
    "posts[['post_polarity','img_polarity']].tail(10)"
   ]
  },
  {
   "cell_type": "code",
   "execution_count": 14,
   "metadata": {},
   "outputs": [
    {
     "data": {
      "text/plain": [
       "0.378099405362953"
      ]
     },
     "execution_count": 14,
     "metadata": {},
     "output_type": "execute_result"
    }
   ],
   "source": [
    "from sklearn.metrics import accuracy_score\n",
    "\n",
    "accuracy_score(posts['post_polarity'].values.astype(int), posts['img_polarity'].values.astype(int))"
   ]
  },
  {
   "cell_type": "code",
   "execution_count": null,
   "metadata": {},
   "outputs": [],
   "source": []
  }
 ],
 "metadata": {
  "kernelspec": {
   "display_name": "Python 3",
   "language": "python",
   "name": "python3"
  },
  "language_info": {
   "codemirror_mode": {
    "name": "ipython",
    "version": 3
   },
   "file_extension": ".py",
   "mimetype": "text/x-python",
   "name": "python",
   "nbconvert_exporter": "python",
   "pygments_lexer": "ipython3",
   "version": "3.6.5"
  }
 },
 "nbformat": 4,
 "nbformat_minor": 2
}
