{
 "cells": [
  {
   "cell_type": "code",
   "execution_count": 90,
   "metadata": {},
   "outputs": [],
   "source": [
    "import pandas as pd\n",
    "from sklearn.metrics import accuracy_score, classification_report, confusion_matrix\n",
    "import numpy as np\n"
   ]
  },
  {
   "cell_type": "code",
   "execution_count": 91,
   "metadata": {},
   "outputs": [],
   "source": [
    "posts = pd.read_csv('post_img_polarity.csv', encoding='latin-1')\n",
    "result = pd.read_csv('cf_report_1272911_aggregated.csv', encoding='latin-1')"
   ]
  },
  {
   "cell_type": "code",
   "execution_count": 92,
   "metadata": {},
   "outputs": [],
   "source": [
    "#Ajustando as classes do ground truth\n",
    "\n",
    "result_clean = result[result['qual_o_sentimento_predominante_no_texto'] >= 0]\n",
    "result_clean = result_clean[result_clean['qual_o_sentimento_predominante_no_texto'] <= 2]\n",
    "result_clean = result_clean[result_clean['what_is_the_sentiment_feeling_of_the_image'] != -1]\n",
    "result_clean = result_clean[result_clean['what_is_the_sentiment_feeling_of_the_image'] != 1]\n",
    "\n",
    "result = result_clean"
   ]
  },
  {
   "cell_type": "code",
   "execution_count": 93,
   "metadata": {},
   "outputs": [],
   "source": [
    "#Ajustando as classes das predições\n",
    "\n",
    "posts['img_polarity'] = posts['img_polarity'].values.astype(int)\n",
    "posts = posts[posts['img_polarity'] >= 0]\n",
    "\n",
    "posts['polarity'] = posts['polarity'].values.astype(int)\n",
    "posts = posts[posts['polarity'] >= 0]\n",
    "\n",
    "def polarity(post):\n",
    "    if post['polarity'] > 5:\n",
    "        return 2 #positive\n",
    "    elif post['polarity'] < -0:\n",
    "        return 0 #negative\n",
    "    else:\n",
    "        return 1 #neutral\n",
    "\n",
    "posts['post_polarity'] = posts.apply(polarity, axis=1)"
   ]
  },
  {
   "cell_type": "code",
   "execution_count": 94,
   "metadata": {},
   "outputs": [],
   "source": [
    "#Funções para merge dos datagramas\n",
    "\n",
    "def alterNumber(post):\n",
    "    post = post.replace(',','.')\n",
    "    post = float(post)\n",
    "    post = int(post)\n",
    "    \n",
    "    return post\n",
    "\n",
    "\n",
    "def remove(val):\n",
    "    if type(val) != float:\n",
    "        return val[7:]\n",
    "    else:\n",
    "        return val\n",
    "    \n",
    "    \n",
    "result['img']=result['img'].apply(remove)\n",
    "\n",
    "posts.rename(columns={\"blog.id\": \"blogid\"}, inplace=True)\n",
    "\n",
    "posts['blogid']=posts['blogid'].apply(alterNumber)\n",
    "result['blogid']=result['blogid'].apply(alterNumber)\n",
    "\n",
    "resultado = pd.merge(posts, result, on='img')"
   ]
  },
  {
   "cell_type": "code",
   "execution_count": 95,
   "metadata": {},
   "outputs": [
    {
     "name": "stdout",
     "output_type": "stream",
     "text": [
      "             precision    recall  f1-score   support\n",
      "\n",
      "        0.0       0.42      0.64      0.51        70\n",
      "        2.0       0.84      0.69      0.76       198\n",
      "\n",
      "avg / total       0.73      0.68      0.69       268\n",
      "\n"
     ]
    }
   ],
   "source": [
    "# Classification_Report\n",
    "\n",
    "label_img_orig = resultado['what_is_the_sentiment_feeling_of_the_image']\n",
    "label_img_pred = resultado['img_max_polarity_idx']\n",
    "\n",
    "print(classification_report(label_img_orig, label_img_pred))"
   ]
  },
  {
   "cell_type": "code",
   "execution_count": 96,
   "metadata": {},
   "outputs": [
    {
     "name": "stdout",
     "output_type": "stream",
     "text": [
      "             precision    recall  f1-score   support\n",
      "\n",
      "          0       0.00      0.00      0.00        69\n",
      "          1       0.19      0.45      0.27        56\n",
      "          2       0.57      0.55      0.56       143\n",
      "\n",
      "avg / total       0.34      0.38      0.35       268\n",
      "\n"
     ]
    },
    {
     "name": "stderr",
     "output_type": "stream",
     "text": [
      "C:\\Users\\greic\\AppData\\Roaming\\Python\\Python36\\site-packages\\sklearn\\metrics\\classification.py:1135: UndefinedMetricWarning: Precision and F-score are ill-defined and being set to 0.0 in labels with no predicted samples.\n",
      "  'precision', 'predicted', average, warn_for)\n"
     ]
    }
   ],
   "source": [
    "label_txt_orig = resultado['qual_o_sentimento_predominante_no_texto']\n",
    "label_txt_pred = resultado['post_polarity']\n",
    "\n",
    "print(classification_report(label_txt_orig, label_txt_pred))"
   ]
  },
  {
   "cell_type": "code",
   "execution_count": 98,
   "metadata": {},
   "outputs": [
    {
     "name": "stdout",
     "output_type": "stream",
     "text": [
      "[[ 45  25]\n",
      " [ 62 136]]\n"
     ]
    }
   ],
   "source": [
    "#discordância aplicada em confusion matrix\n",
    "\n",
    "from sklearn.metrics import confusion_matrix\n",
    "\n",
    "print(confusion_matrix(label_img_orig,label_img_pred)) #linha, coluna"
   ]
  },
  {
   "cell_type": "code",
   "execution_count": 99,
   "metadata": {},
   "outputs": [
    {
     "name": "stdout",
     "output_type": "stream",
     "text": [
      "[[ 0 40 29]\n",
      " [ 0 25 31]\n",
      " [ 0 65 78]]\n"
     ]
    }
   ],
   "source": [
    "print(confusion_matrix(label_txt_orig,label_txt_pred)) #linha, coluna"
   ]
  },
  {
   "cell_type": "code",
   "execution_count": 100,
   "metadata": {},
   "outputs": [
    {
     "name": "stdout",
     "output_type": "stream",
     "text": [
      "[[41  0 28]\n",
      " [20  0 36]\n",
      " [46  0 97]]\n"
     ]
    }
   ],
   "source": [
    "print(confusion_matrix(label_txt_orig,label_img_pred)) #linha, coluna"
   ]
  },
  {
   "cell_type": "code",
   "execution_count": 101,
   "metadata": {},
   "outputs": [
    {
     "name": "stdout",
     "output_type": "stream",
     "text": [
      "[[ 44   0  25]\n",
      " [  9   0  47]\n",
      " [ 17   0 126]]\n"
     ]
    }
   ],
   "source": [
    "print(confusion_matrix(label_txt_orig,label_img_orig)) #linha, coluna"
   ]
  },
  {
   "cell_type": "code",
   "execution_count": 103,
   "metadata": {},
   "outputs": [
    {
     "name": "stdout",
     "output_type": "stream",
     "text": [
      "[[ 0  0  0]\n",
      " [60  0 70]\n",
      " [47  0 91]]\n"
     ]
    }
   ],
   "source": [
    "print(confusion_matrix(label_txt_pred,label_img_pred)) #linha, coluna"
   ]
  }
 ],
 "metadata": {
  "kernelspec": {
   "display_name": "Python 3",
   "language": "python",
   "name": "python3"
  },
  "language_info": {
   "codemirror_mode": {
    "name": "ipython",
    "version": 3
   },
   "file_extension": ".py",
   "mimetype": "text/x-python",
   "name": "python",
   "nbconvert_exporter": "python",
   "pygments_lexer": "ipython3",
   "version": "3.6.4"
  }
 },
 "nbformat": 4,
 "nbformat_minor": 2
}
